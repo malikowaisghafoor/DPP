{
 "cells": [
  {
   "cell_type": "markdown",
   "metadata": {},
   "source": [
    "## Import"
   ]
  },
  {
   "cell_type": "code",
   "execution_count": 1,
   "metadata": {
    "id": "CbPloL_nTwj6"
   },
   "outputs": [],
   "source": [
    "import numpy as np\n",
    "import pandas as pd\n",
    "import import_ipynb\n",
    "import io\n",
    "import networkx as nx\n",
    "import pydot\n",
    "from io import BytesIO\n",
    "from IPython.display import Image"
   ]
  },
  {
   "cell_type": "markdown",
   "metadata": {},
   "source": [
    "## QI Selection"
   ]
  },
  {
   "cell_type": "code",
   "execution_count": 2,
   "metadata": {
    "colab": {
     "base_uri": "https://localhost:8080/"
    },
    "id": "8fDQrRhUUCbs",
    "outputId": "1ffaba85-cdea-4082-85de-ca0d4293763d"
   },
   "outputs": [
    {
     "name": "stdout",
     "output_type": "stream",
     "text": [
      "        ID                Name                                    Email  \\\n",
      "0        1         Nathan Roth          Nathan_Roth1584442004@brety.org   \n",
      "1        2         Abbey Grady         Abbey_Grady1526558097@supunk.biz   \n",
      "2        3         Mike Rivers           Mike_Rivers125936120@twace.org   \n",
      "3        4        Harry Hunter        Harry_Hunter1608989927@bungar.biz   \n",
      "4        5       Ally Truscott       Ally_Truscott2033161446@ovock.tech   \n",
      "...    ...                 ...                                      ...   \n",
      "7995  7996  Nicholas Armstrong  Nicholas_Armstrong1786717544@nimogy.biz   \n",
      "7996  7997     Alexander Trent       Alexander_Trent225920544@tonsy.org   \n",
      "7997  7998      Ronald Edwards        Ronald_Edwards202912605@tonsy.org   \n",
      "7998  7999        Fred Gardner        Fred_Gardner1951456777@famism.biz   \n",
      "7999  8000         Ron Shields        Ron_Shields2055808448@joiniaa.com   \n",
      "\n",
      "      Gender  Age                   Street    Zip  \n",
      "0       Male   40        Clyde Drive, 3171  16171  \n",
      "1     Female   27        Linden Road, 1957  16104  \n",
      "2       Male   26      Bacton   Grove, 232  16188  \n",
      "3       Male   36   Victorian  Route, 4646  16147  \n",
      "4     Female   43    Blendon    Vale, 2332  16106  \n",
      "...      ...  ...                      ...    ...  \n",
      "7995    Male   29       Cliff  Alley, 5895  16183  \n",
      "7996    Male   41     Cavendish Walk, 7345  16176  \n",
      "7997    Male   26  Baynes  Boulevard, 1938  16125  \n",
      "7998    Male   44    Calverley  Road, 8977  16158  \n",
      "7999    Male   29         Aspen Lane, 8419  16106  \n",
      "\n",
      "[8000 rows x 7 columns]\n"
     ]
    }
   ],
   "source": [
    "df = pd.read_csv('Dataset/Dataset-8k.csv')\n",
    "print(df)"
   ]
  },
  {
   "cell_type": "code",
   "execution_count": 3,
   "metadata": {
    "id": "6GcrU-ApUC_1"
   },
   "outputs": [],
   "source": [
    "df['Gender'] = df['Gender'].astype('string')\n",
    "df['Gender'] = df['Gender'].replace(\"Male\",\"0\").replace(\"Female\",\"1\")\n",
    "df['Gender'] = df['Gender'].astype('int64')\n",
    "qi=['Zip','Gender']\n",
    "dfQI= pd.DataFrame(df, columns = qi)"
   ]
  },
  {
   "cell_type": "code",
   "execution_count": 4,
   "metadata": {},
   "outputs": [
    {
     "name": "stdout",
     "output_type": "stream",
     "text": [
      "        Zip  Gender\n",
      "0     16171       0\n",
      "1     16104       1\n",
      "2     16188       0\n",
      "3     16147       0\n",
      "4     16106       1\n",
      "...     ...     ...\n",
      "7995  16183       0\n",
      "7996  16176       0\n",
      "7997  16125       0\n",
      "7998  16158       0\n",
      "7999  16106       0\n",
      "\n",
      "[8000 rows x 2 columns]\n"
     ]
    }
   ],
   "source": [
    "print(dfQI)"
   ]
  },
  {
   "cell_type": "markdown",
   "metadata": {
    "id": "TtJ-__qTqp6R"
   },
   "source": [
    "# Generation of Graph"
   ]
  },
  {
   "cell_type": "markdown",
   "metadata": {},
   "source": [
    "## Initialization"
   ]
  },
  {
   "cell_type": "code",
   "execution_count": 5,
   "metadata": {},
   "outputs": [],
   "source": [
    "\n",
    "graph = nx.DiGraph()\n",
    "\n",
    "d1 = 3 # dimension of 1 feature || Specific column : Level of Generalization || Zip\n",
    "d2 = 2 # dimension of 2 feature || Specific column : Level of Generalization || Gender\n",
    "k = 1000\n",
    "\n",
    "nodes = []\n",
    "edges = []"
   ]
  },
  {
   "cell_type": "markdown",
   "metadata": {},
   "source": [
    "## Generating the graph using DFS with recursion"
   ]
  },
  {
   "cell_type": "code",
   "execution_count": 6,
   "metadata": {},
   "outputs": [],
   "source": [
    "def addEdge(e1, e2):\n",
    "    edges.append((e1, e2))\n",
    "\n",
    "def concat(a, b):\n",
    "    a1 = str(a)\n",
    "    b1 = str(b)\n",
    "    return str(f\"{a1}{b1}\")\n",
    "                \n",
    "def recursive(f1,f2):\n",
    "\n",
    "    s = str(f1) + '' + str(f2)\n",
    "    #(12)\n",
    "    if s not in nodes:\n",
    "        #print(s) [(0,0),(0,1),(0,2),(1,2),(2,2)]\n",
    "        nodes.append(s)    \n",
    "    \n",
    "    # Go deeper on left side\n",
    "    if(f2 < d2):\n",
    "        d = str(f1) + '' + str(f2+1)\n",
    "        ##(02)\n",
    "        addEdge(concat(f1,f2), concat(f1,f2+1))\n",
    "        # (0,1) -> (0,2)\n",
    "        if d not in nodes:\n",
    "            recursive(f1,f2+1)\n",
    "\n",
    "    # Go deeper on right side\n",
    "    if(f1 < d1):\n",
    "        d = str(f1+1) + '' + str(f2)\n",
    "        ##(2,2)\n",
    "        addEdge(concat(f1,f2), concat(f1+1,f2))\n",
    "        ##(1,2) -> (2,2)\n",
    "        if d not in nodes:\n",
    "            recursive(f1+1,f2)"
   ]
  },
  {
   "cell_type": "markdown",
   "metadata": {},
   "source": [
    "## Generation of Graph "
   ]
  },
  {
   "cell_type": "code",
   "execution_count": 7,
   "metadata": {},
   "outputs": [
    {
     "name": "stdout",
     "output_type": "stream",
     "text": [
      "['00', '01', '02', '12', '22', '32', '11', '21', '31', '10', '20', '30']\n",
      "[('00', '01'), ('01', '02'), ('02', '12'), ('12', '22'), ('22', '32'), ('01', '11'), ('11', '12'), ('11', '21'), ('21', '22'), ('21', '31'), ('31', '32'), ('00', '10'), ('10', '11'), ('10', '20'), ('20', '21'), ('20', '30'), ('30', '31')]\n"
     ]
    }
   ],
   "source": [
    "#Pass the root node\n",
    "recursive(0,0)\n",
    "\n",
    "print(nodes)\n",
    "print(edges)\n",
    "\n",
    "graph.add_nodes_from(nodes)\n",
    "graph.add_edges_from(edges)\n"
   ]
  },
  {
   "cell_type": "markdown",
   "metadata": {},
   "source": [
    "## Save the graph as image"
   ]
  },
  {
   "cell_type": "code",
   "execution_count": 8,
   "metadata": {},
   "outputs": [
    {
     "data": {
      "image/png": "[encoded data removed]",
      "text/plain": [
       "<IPython.core.display.Image object>"
      ]
     },
     "metadata": {},
     "output_type": "display_data"
    }
   ],
   "source": [
    "def displayGraph(graph):\n",
    "    pydot_graph =nx.drawing.nx_pydot.to_pydot(graph)\n",
    "    plt = Image(pydot_graph.create_png())\n",
    "    display(plt)\n",
    "    \n",
    "displayGraph(graph)"
   ]
  },
  {
   "cell_type": "markdown",
   "metadata": {},
   "source": [
    "## Iterating each node\n",
    "### Generate a new dataset using Generalization"
   ]
  },
  {
   "cell_type": "code",
   "execution_count": 9,
   "metadata": {},
   "outputs": [],
   "source": [
    "feature_generalization = { 'Gender':'replace', 'Zip': 'suppression'}\n",
    "feature_dimension = { 'Gender': 2, 'Zip': 3}\n",
    "feature_replace = { 'Gender': 'Person', 'Zip': ''}"
   ]
  },
  {
   "cell_type": "code",
   "execution_count": 10,
   "metadata": {},
   "outputs": [
    {
     "name": "stderr",
     "output_type": "stream",
     "text": [
      "<>:10: SyntaxWarning: \"is not\" with a literal. Did you mean \"!=\"?\n",
      "<>:10: SyntaxWarning: \"is not\" with a literal. Did you mean \"!=\"?\n",
      "C:\\Users\\Aleem\\AppData\\Local\\Temp\\ipykernel_15092\\1824846553.py:10: SyntaxWarning: \"is not\" with a literal. Did you mean \"!=\"?\n",
      "  cData = cData[feature].map(lambda x: str(x)[:count] if len(str(x)[:count]) is not 0 else 0 ).astype(int)\n"
     ]
    }
   ],
   "source": [
    "def generalization(data, feature, type, dimension, replaceValue):\n",
    "    cData = pd.DataFrame(data=data, columns=[feature]) \n",
    "    \n",
    "    if int(dimension) < 1:\n",
    "        return data[feature]\n",
    "    \n",
    "    if type == 'suppression':\n",
    "        count = -1\n",
    "        count = count * int(dimension) # -1 * 2 = -2\n",
    "        cData = cData[feature].map(lambda x: str(x)[:count] if len(str(x)[:count]) is not 0 else 0 ).astype(int)\n",
    "        \n",
    "        # str(x) 12345 [:-2] [starting, length] 123\n",
    "      \n",
    "    elif type == 'range':\n",
    "        diff = (cData[feature].min().astype(str)  + '-' + cData[feature].max().astype(str) )\n",
    "        cData[feature] = diff\n",
    "        cData = cData[feature].squeeze()\n",
    "    \n",
    "    elif type == 'replace':\n",
    "        cData[feature] = replaceValue\n",
    "        cData = cData[feature].squeeze()\n",
    "    \n",
    "    return cData"
   ]
  },
  {
   "cell_type": "code",
   "execution_count": 11,
   "metadata": {},
   "outputs": [],
   "source": [
    "def generate_dataset(node):\n",
    "    #node = (0,1)\n",
    "    #featu= (zip, Gender)\n",
    "    df = pd.DataFrame(columns=qi) # empty dataset\n",
    "    \n",
    "    index = 0\n",
    "    for d in str(node):\n",
    "        feature = qi[index] # SEX \n",
    "        print('Feature: ', feature)\n",
    "        print('Dimension: ', d)\n",
    "        df[feature] =  generalization(dfQI\n",
    "                                      , feature\n",
    "                                      , feature_generalization[feature]\n",
    "                                      , d\n",
    "                                      , feature_replace[feature])\n",
    "        index =+ 1\n",
    "    return df"
   ]
  },
  {
   "cell_type": "markdown",
   "metadata": {},
   "source": [
    "### Check if dataset of this node is K-Anonymous"
   ]
  },
  {
   "cell_type": "code",
   "execution_count": 12,
   "metadata": {},
   "outputs": [],
   "source": [
    "\n",
    "def isKAnonymized(df, attributes, k):\n",
    "\n",
    "    #Attributes = Quasi Identifiers\n",
    "    #Corner Case: If Data set is small than K. Returns false\n",
    "    if k > df.shape[0]: return False\n",
    "\n",
    "    #attributes = ['Zip','Gender']\n",
    "    grouped = df.groupby(attributes)\n",
    "\n",
    "    for name,group in grouped:\n",
    "        print('No of Rows Grouped:',group.shape[0])\n",
    "        \n",
    "        if group.shape[0] < k:\n",
    "            return False\n",
    "\n",
    "    return True"
   ]
  },
  {
   "cell_type": "markdown",
   "metadata": {},
   "source": [
    "### Marked it\n",
    "### Marked all the linked nodes (bottom to top)"
   ]
  },
  {
   "cell_type": "code",
   "execution_count": 13,
   "metadata": {},
   "outputs": [],
   "source": [
    "def markNodes(graph, node):\n",
    "    linked_nodes = list(nx.bfs_tree(graph, source=node ).nodes())\n",
    "    for node in linked_nodes:\n",
    "        nx.set_node_attributes(graph, {node:{'k':True}})\n",
    "        graph.nodes[node]['color'] = 'red'\n",
    "    print('Marked:',linked_nodes)\n",
    "    return graph"
   ]
  },
  {
   "cell_type": "markdown",
   "metadata": {},
   "source": [
    "### Iterate nodes as BFS "
   ]
  },
  {
   "cell_type": "code",
   "execution_count": 14,
   "metadata": {},
   "outputs": [
    {
     "name": "stdout",
     "output_type": "stream",
     "text": [
      "['00', '01', '10', '02', '11', '20', '12', '21', '30', '22', '31', '32']\n"
     ]
    }
   ],
   "source": [
    "#Get graph with bfs\n",
    "bfs_nodes = list(nx.bfs_tree(graph, source='00').nodes())\n",
    "\n",
    "print(bfs_nodes)"
   ]
  },
  {
   "cell_type": "markdown",
   "metadata": {},
   "source": [
    "## Incognito\n",
    "#### ~ Generate a new dataset using Generalization\n",
    "#### ~ Check if dataset of this node is K-Anonymous\n",
    "#### ~ Marked it\n",
    "#### ~ Marked all the linked nodes (bottom to top)"
   ]
  },
  {
   "cell_type": "code",
   "execution_count": 15,
   "metadata": {},
   "outputs": [
    {
     "name": "stdout",
     "output_type": "stream",
     "text": [
      "--------\n",
      "Node:  00\n",
      "Not marked node: 00\n",
      "Feature:  Zip\n",
      "Dimension:  0\n",
      "Feature:  Gender\n",
      "Dimension:  0\n",
      "        Zip  Gender\n",
      "0     16171       0\n",
      "1     16104       1\n",
      "2     16188       0\n",
      "3     16147       0\n",
      "4     16106       1\n",
      "...     ...     ...\n",
      "7995  16183       0\n",
      "7996  16176       0\n",
      "7997  16125       0\n",
      "7998  16158       0\n",
      "7999  16106       0\n",
      "\n",
      "[8000 rows x 2 columns]\n",
      "No of Rows Grouped: 34\n",
      "node 00  is Not K-Anonymized False\n",
      "\n",
      "--------\n",
      "Node:  01\n",
      "Not marked node: 01\n",
      "Feature:  Zip\n",
      "Dimension:  0\n",
      "Feature:  Gender\n",
      "Dimension:  1\n",
      "        Zip  Gender\n",
      "0     16171  Person\n",
      "1     16104  Person\n",
      "2     16188  Person\n",
      "3     16147  Person\n",
      "4     16106  Person\n",
      "...     ...     ...\n",
      "7995  16183  Person\n",
      "7996  16176  Person\n",
      "7997  16125  Person\n",
      "7998  16158  Person\n",
      "7999  16106  Person\n",
      "\n",
      "[8000 rows x 2 columns]\n",
      "No of Rows Grouped: 71\n",
      "node 01  is Not K-Anonymized False\n",
      "\n",
      "--------\n",
      "Node:  10\n",
      "Not marked node: 10\n",
      "Feature:  Zip\n",
      "Dimension:  1\n",
      "Feature:  Gender\n",
      "Dimension:  0\n",
      "       Zip  Gender\n",
      "0     1617       0\n",
      "1     1610       1\n",
      "2     1618       0\n",
      "3     1614       0\n",
      "4     1610       1\n",
      "...    ...     ...\n",
      "7995  1618       0\n",
      "7996  1617       0\n",
      "7997  1612       0\n",
      "7998  1615       0\n",
      "7999  1610       0\n",
      "\n",
      "[8000 rows x 2 columns]\n",
      "No of Rows Grouped: 375\n",
      "node 10  is Not K-Anonymized False\n",
      "\n",
      "--------\n",
      "Node:  02\n",
      "Not marked node: 02\n",
      "Feature:  Zip\n",
      "Dimension:  0\n",
      "Feature:  Gender\n",
      "Dimension:  2\n",
      "        Zip  Gender\n",
      "0     16171  Person\n",
      "1     16104  Person\n",
      "2     16188  Person\n",
      "3     16147  Person\n",
      "4     16106  Person\n",
      "...     ...     ...\n",
      "7995  16183  Person\n",
      "7996  16176  Person\n",
      "7997  16125  Person\n",
      "7998  16158  Person\n",
      "7999  16106  Person\n",
      "\n",
      "[8000 rows x 2 columns]\n",
      "No of Rows Grouped: 71\n",
      "node 02  is Not K-Anonymized False\n",
      "\n",
      "--------\n",
      "Node:  11\n",
      "Not marked node: 11\n",
      "Feature:  Zip\n",
      "Dimension:  1\n",
      "Feature:  Gender\n",
      "Dimension:  1\n",
      "       Zip  Gender\n",
      "0     1617  Person\n",
      "1     1610  Person\n",
      "2     1618  Person\n",
      "3     1614  Person\n",
      "4     1610  Person\n",
      "...    ...     ...\n",
      "7995  1618  Person\n",
      "7996  1617  Person\n",
      "7997  1612  Person\n",
      "7998  1615  Person\n",
      "7999  1610  Person\n",
      "\n",
      "[8000 rows x 2 columns]\n",
      "No of Rows Grouped: 768\n",
      "node 11  is Not K-Anonymized False\n",
      "\n",
      "--------\n",
      "Node:  20\n",
      "Not marked node: 20\n",
      "Feature:  Zip\n",
      "Dimension:  2\n",
      "Feature:  Gender\n",
      "Dimension:  0\n",
      "      Zip  Gender\n",
      "0     161       0\n",
      "1     161       1\n",
      "2     161       0\n",
      "3     161       0\n",
      "4     161       1\n",
      "...   ...     ...\n",
      "7995  161       0\n",
      "7996  161       0\n",
      "7997  161       0\n",
      "7998  161       0\n",
      "7999  161       0\n",
      "\n",
      "[8000 rows x 2 columns]\n",
      "No of Rows Grouped: 4000\n",
      "No of Rows Grouped: 4000\n",
      "node 20  is K-Anonymized True\n",
      "Marked: ['20', '21', '30', '22', '31', '32']\n",
      "\n",
      "--------\n",
      "Node:  12\n",
      "Not marked node: 12\n",
      "Feature:  Zip\n",
      "Dimension:  1\n",
      "Feature:  Gender\n",
      "Dimension:  2\n",
      "       Zip  Gender\n",
      "0     1617  Person\n",
      "1     1610  Person\n",
      "2     1618  Person\n",
      "3     1614  Person\n",
      "4     1610  Person\n",
      "...    ...     ...\n",
      "7995  1618  Person\n",
      "7996  1617  Person\n",
      "7997  1612  Person\n",
      "7998  1615  Person\n",
      "7999  1610  Person\n",
      "\n",
      "[8000 rows x 2 columns]\n",
      "No of Rows Grouped: 768\n",
      "node 12  is Not K-Anonymized False\n",
      "\n",
      "--------\n",
      "Node:  21\n",
      "Alread marked node: 21\n",
      "\n",
      "--------\n",
      "Node:  30\n",
      "Alread marked node: 30\n",
      "\n",
      "--------\n",
      "Node:  22\n",
      "Alread marked node: 22\n",
      "\n",
      "--------\n",
      "Node:  31\n",
      "Alread marked node: 31\n",
      "\n",
      "--------\n",
      "Node:  32\n",
      "Alread marked node: 32\n",
      "\n"
     ]
    }
   ],
   "source": [
    "index = 0\n",
    "\n",
    "for node in bfs_nodes:\n",
    "    print('--------')\n",
    "    print('Node: ', node)\n",
    "    \n",
    "    n = graph.nodes[node]\n",
    "    if n.get('k') is not None and n['k']:\n",
    "        print('Alread marked node:', node)\n",
    "    else:\n",
    "        print('Not marked node:', node)\n",
    "    \n",
    "        dataset = generate_dataset(str(node))\n",
    "        print(dataset)\n",
    "\n",
    "        isKAnonymize = isKAnonymized(dataset, qi, k)\n",
    "\n",
    "        if isKAnonymize:\n",
    "            print('node', node,' is K-Anonymized', isKAnonymize)\n",
    "            markNodes(graph, node)\n",
    "        else:\n",
    "            print('node', node,' is Not K-Anonymized', isKAnonymize)\n",
    "    \n",
    "    print('')"
   ]
  },
  {
   "cell_type": "markdown",
   "metadata": {},
   "source": [
    "### Display the graph after marking"
   ]
  },
  {
   "cell_type": "code",
   "execution_count": 16,
   "metadata": {},
   "outputs": [
    {
     "data": {
      "image/png": "[encoded data removed]",
      "text/plain": [
       "<IPython.core.display.Image object>"
      ]
     },
     "metadata": {},
     "output_type": "display_data"
    }
   ],
   "source": [
    "displayGraph(graph)"
   ]
  },
  {
   "cell_type": "code",
   "execution_count": null,
   "metadata": {},
   "outputs": [],
   "source": []
  },
  {
   "cell_type": "code",
   "execution_count": null,
   "metadata": {},
   "outputs": [],
   "source": []
  }
 ],
 "metadata": {
  "colab": {
   "collapsed_sections": [],
   "name": "Main.ipynb",
   "provenance": []
  },
  "kernelspec": {
   "display_name": "Python 3 (ipykernel)",
   "language": "python",
   "name": "python3"
  },
  "language_info": {
   "codemirror_mode": {
    "name": "ipython",
    "version": 3
   },
   "file_extension": ".py",
   "mimetype": "text/x-python",
   "name": "python",
   "nbconvert_exporter": "python",
   "pygments_lexer": "ipython3",
   "version": "3.10.2"
  }
 },
 "nbformat": 4,
 "nbformat_minor": 1
}
