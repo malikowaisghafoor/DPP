{
 "cells": [
  {
   "cell_type": "markdown",
   "metadata": {},
   "source": [
    "## Import"
   ]
  },
  {
   "cell_type": "code",
   "execution_count": 1,
   "metadata": {
    "id": "CbPloL_nTwj6"
   },
   "outputs": [],
   "source": [
    "import numpy as np\n",
    "import pandas as pd\n",
    "import import_ipynb\n",
    "import io\n",
    "import networkx as nx\n",
    "import pydot\n",
    "from PIL import Image\n",
    "from io import BytesIO"
   ]
  },
  {
   "cell_type": "markdown",
   "metadata": {},
   "source": [
    "## QI Selection"
   ]
  },
  {
   "cell_type": "code",
   "execution_count": 2,
   "metadata": {
    "colab": {
     "base_uri": "https://localhost:8080/"
    },
    "id": "8fDQrRhUUCbs",
    "outputId": "1ffaba85-cdea-4082-85de-ca0d4293763d"
   },
   "outputs": [
    {
     "name": "stdout",
     "output_type": "stream",
     "text": [
      "        ID                Name                                    Email  \\\n",
      "0        1         Nathan Roth          Nathan_Roth1584442004@brety.org   \n",
      "1        2         Abbey Grady         Abbey_Grady1526558097@supunk.biz   \n",
      "2        3         Mike Rivers           Mike_Rivers125936120@twace.org   \n",
      "3        4        Harry Hunter        Harry_Hunter1608989927@bungar.biz   \n",
      "4        5       Ally Truscott       Ally_Truscott2033161446@ovock.tech   \n",
      "...    ...                 ...                                      ...   \n",
      "7995  7996  Nicholas Armstrong  Nicholas_Armstrong1786717544@nimogy.biz   \n",
      "7996  7997     Alexander Trent       Alexander_Trent225920544@tonsy.org   \n",
      "7997  7998      Ronald Edwards        Ronald_Edwards202912605@tonsy.org   \n",
      "7998  7999        Fred Gardner        Fred_Gardner1951456777@famism.biz   \n",
      "7999  8000         Ron Shields        Ron_Shields2055808448@joiniaa.com   \n",
      "\n",
      "      Gender  Age                   Street    CAP  \n",
      "0       Male   40        Clyde Drive, 3171  16171  \n",
      "1     Female   27        Linden Road, 1957  16104  \n",
      "2       Male   26      Bacton   Grove, 232  16188  \n",
      "3       Male   36   Victorian  Route, 4646  16147  \n",
      "4     Female   43    Blendon    Vale, 2332  16106  \n",
      "...      ...  ...                      ...    ...  \n",
      "7995    Male   29       Cliff  Alley, 5895  16183  \n",
      "7996    Male   41     Cavendish Walk, 7345  16176  \n",
      "7997    Male   26  Baynes  Boulevard, 1938  16125  \n",
      "7998    Male   44    Calverley  Road, 8977  16158  \n",
      "7999    Male   29         Aspen Lane, 8419  16106  \n",
      "\n",
      "[8000 rows x 7 columns]\n"
     ]
    }
   ],
   "source": [
    "df = pd.read_csv('Dataset/Dataset3.csv')\n",
    "print(df)"
   ]
  },
  {
   "cell_type": "code",
   "execution_count": 3,
   "metadata": {
    "id": "6GcrU-ApUC_1"
   },
   "outputs": [],
   "source": [
    "df['Gender'] = df['Gender'].astype('string')\n",
    "df['Gender'] = df['Gender'].replace(\"Male\",\"0\").replace(\"Female\",\"1\")\n",
    "df['Gender'] = df['Gender'].astype('int64')\n",
    "quasiIdentifier=['CAP', 'Age','Gender']\n",
    "dfQI= pd.DataFrame(df, columns = quasiIdentifier)"
   ]
  },
  {
   "cell_type": "code",
   "execution_count": 4,
   "metadata": {},
   "outputs": [
    {
     "data": {
      "text/html": [
       "<div>\n",
       "<style scoped>\n",
       "    .dataframe tbody tr th:only-of-type {\n",
       "        vertical-align: middle;\n",
       "    }\n",
       "\n",
       "    .dataframe tbody tr th {\n",
       "        vertical-align: top;\n",
       "    }\n",
       "\n",
       "    .dataframe thead th {\n",
       "        text-align: right;\n",
       "    }\n",
       "</style>\n",
       "<table border=\"1\" class=\"dataframe\">\n",
       "  <thead>\n",
       "    <tr style=\"text-align: right;\">\n",
       "      <th></th>\n",
       "      <th>CAP</th>\n",
       "      <th>Age</th>\n",
       "      <th>Gender</th>\n",
       "    </tr>\n",
       "  </thead>\n",
       "  <tbody>\n",
       "    <tr>\n",
       "      <th>count</th>\n",
       "      <td>8000.000000</td>\n",
       "      <td>8000.000000</td>\n",
       "      <td>8000.000000</td>\n",
       "    </tr>\n",
       "    <tr>\n",
       "      <th>mean</th>\n",
       "      <td>16149.218375</td>\n",
       "      <td>34.452000</td>\n",
       "      <td>0.500000</td>\n",
       "    </tr>\n",
       "    <tr>\n",
       "      <th>std</th>\n",
       "      <td>28.315855</td>\n",
       "      <td>6.350412</td>\n",
       "      <td>0.500031</td>\n",
       "    </tr>\n",
       "    <tr>\n",
       "      <th>min</th>\n",
       "      <td>16100.000000</td>\n",
       "      <td>24.000000</td>\n",
       "      <td>0.000000</td>\n",
       "    </tr>\n",
       "    <tr>\n",
       "      <th>25%</th>\n",
       "      <td>16125.000000</td>\n",
       "      <td>29.000000</td>\n",
       "      <td>0.000000</td>\n",
       "    </tr>\n",
       "    <tr>\n",
       "      <th>50%</th>\n",
       "      <td>16149.000000</td>\n",
       "      <td>34.000000</td>\n",
       "      <td>0.500000</td>\n",
       "    </tr>\n",
       "    <tr>\n",
       "      <th>75%</th>\n",
       "      <td>16174.000000</td>\n",
       "      <td>40.000000</td>\n",
       "      <td>1.000000</td>\n",
       "    </tr>\n",
       "    <tr>\n",
       "      <th>max</th>\n",
       "      <td>16198.000000</td>\n",
       "      <td>45.000000</td>\n",
       "      <td>1.000000</td>\n",
       "    </tr>\n",
       "  </tbody>\n",
       "</table>\n",
       "</div>"
      ],
      "text/plain": [
       "                CAP          Age       Gender\n",
       "count   8000.000000  8000.000000  8000.000000\n",
       "mean   16149.218375    34.452000     0.500000\n",
       "std       28.315855     6.350412     0.500031\n",
       "min    16100.000000    24.000000     0.000000\n",
       "25%    16125.000000    29.000000     0.000000\n",
       "50%    16149.000000    34.000000     0.500000\n",
       "75%    16174.000000    40.000000     1.000000\n",
       "max    16198.000000    45.000000     1.000000"
      ]
     },
     "execution_count": 4,
     "metadata": {},
     "output_type": "execute_result"
    }
   ],
   "source": [
    "dfQI.describe()"
   ]
  },
  {
   "cell_type": "markdown",
   "metadata": {
    "id": "TtJ-__qTqp6R"
   },
   "source": [
    "# Generation of Graph"
   ]
  },
  {
   "cell_type": "markdown",
   "metadata": {},
   "source": [
    "## Initialization"
   ]
  },
  {
   "cell_type": "code",
   "execution_count": 18,
   "metadata": {},
   "outputs": [],
   "source": [
    "# input = [{feature: 'sex', dimension: 1, generalization: 'suppression'}, \n",
    "#          {feature: 'zip', dimension: 2, generalization: 'range'}]\n",
    "\n",
    "graph = nx.DiGraph()\n",
    "\n",
    "d1 = 2 # dimension of 1 feature \n",
    "d2 = 3 # dimension of 2 feature \n",
    "\n",
    "nodes = []\n",
    "edges = []"
   ]
  },
  {
   "cell_type": "markdown",
   "metadata": {},
   "source": [
    "## Generating the graph using DFS with recursion"
   ]
  },
  {
   "cell_type": "code",
   "execution_count": 19,
   "metadata": {},
   "outputs": [],
   "source": [
    "def addEdge(e1, e2):\n",
    "    edges.append((e1, e2))\n",
    "\n",
    "def concat(a, b):\n",
    "    a1 = str(a)\n",
    "    b1 = str(b)\n",
    "    return str(f\"{a1}{b1}\")\n",
    "                \n",
    "def recursive(f1,f2):\n",
    "\n",
    "    s = str(f1) + '' + str(f2)\n",
    "    \n",
    "    if s not in nodes:\n",
    "        #print(s)\n",
    "        nodes.append(s)    \n",
    "    \n",
    "    # Go deeper on left side\n",
    "    if(f2 < d2):\n",
    "        d = str(f1) + '' + str(f2+1)\n",
    "        addEdge(concat(f1,f2), concat(f1,f2+1))\n",
    "        if d not in nodes:\n",
    "            recursive(f1,f2+1)\n",
    "\n",
    "    # Go deeper on right side\n",
    "    if(f1 < d1):\n",
    "        d = str(f1+1) + '' + str(f2)\n",
    "        addEdge(concat(f1,f2), concat(f1+1,f2))\n",
    "        if d not in nodes:\n",
    "            recursive(f1+1,f2)"
   ]
  },
  {
   "cell_type": "markdown",
   "metadata": {},
   "source": [
    "## Generation of Graph "
   ]
  },
  {
   "cell_type": "code",
   "execution_count": 20,
   "metadata": {},
   "outputs": [],
   "source": [
    "#Pass the root node\n",
    "recursive(0,0)\n",
    "\n",
    "#print(nodes)\n",
    "#print(edges)\n",
    "\n",
    "graph.add_nodes_from(nodes)\n",
    "graph.add_edges_from(edges)"
   ]
  },
  {
   "cell_type": "markdown",
   "metadata": {},
   "source": [
    "## Save the graph as image"
   ]
  },
  {
   "cell_type": "code",
   "execution_count": 21,
   "metadata": {},
   "outputs": [],
   "source": [
    "pydot_graph = nx.drawing.nx_pydot.to_pydot(graph)\n",
    "Image.open(BytesIO(pydot_graph.create_png())).show()"
   ]
  },
  {
   "cell_type": "markdown",
   "metadata": {},
   "source": [
    "## Interating each node\n",
    "### ~ Generate a new dataset\n",
    "### ~ Check if dataset of this node is K-Anonymous\n",
    "### ~ Marked it\n",
    "### ~ Marked all the linked nodes (bottom to top)\n",
    "\n"
   ]
  },
  {
   "cell_type": "code",
   "execution_count": null,
   "metadata": {},
   "outputs": [],
   "source": []
  }
 ],
 "metadata": {
  "colab": {
   "collapsed_sections": [],
   "name": "Main.ipynb",
   "provenance": []
  },
  "kernelspec": {
   "display_name": "Python 3 (ipykernel)",
   "language": "python",
   "name": "python3"
  },
  "language_info": {
   "codemirror_mode": {
    "name": "ipython",
    "version": 3
   },
   "file_extension": ".py",
   "mimetype": "text/x-python",
   "name": "python",
   "nbconvert_exporter": "python",
   "pygments_lexer": "ipython3",
   "version": "3.10.2"
  }
 },
 "nbformat": 4,
 "nbformat_minor": 1
}
